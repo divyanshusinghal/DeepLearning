{
 "cells": [
  {
   "cell_type": "markdown",
   "metadata": {
    "colab_type": "text",
    "id": "view-in-github"
   },
   "source": [
    "<a href=\"https://colab.research.google.com/github/mrdbourke/pytorch-deep-learning/blob/main/extras/exercises/01_pytorch_workflow_exercises.ipynb\" target=\"_parent\"><img src=\"https://colab.research.google.com/assets/colab-badge.svg\" alt=\"Open In Colab\"/></a>"
   ]
  },
  {
   "cell_type": "markdown",
   "metadata": {
    "id": "N8LsPXZti9Sw"
   },
   "source": [
    "# 01. PyTorch Workflow Exercise Template\n",
    "\n",
    "The following is a template for the PyTorch workflow exercises.\n",
    "\n",
    "It's only starter code and it's your job to fill in the blanks.\n",
    "\n",
    "Because of the flexibility of PyTorch, there may be more than one way to answer the question.\n",
    "\n",
    "Don't worry about trying to be *right* just try writing code that suffices the question.\n",
    "\n",
    "You can see one form of [solutions on GitHub](https://github.com/mrdbourke/pytorch-deep-learning/tree/main/extras/solutions) (but try the exercises below yourself first!)."
   ]
  },
  {
   "cell_type": "code",
   "execution_count": null,
   "metadata": {
    "id": "Glu2fM4dkNlx"
   },
   "outputs": [],
   "source": [
    "# Import necessary libraries\n",
    "import torch\n",
    "from torch import nn"
   ]
  },
  {
   "cell_type": "code",
   "execution_count": null,
   "metadata": {
    "id": "LqKhXY26m31s"
   },
   "outputs": [],
   "source": [
    "# Setup device-agnostic code\n",
    "device = 'gpu' if torch.cuda.is_available() else 'cpu'"
   ]
  },
  {
   "cell_type": "markdown",
   "metadata": {
    "id": "g7HUhxCxjeBx"
   },
   "source": [
    "## 1. Create a straight line dataset using the linear regression formula (`weight * X + bias`).\n",
    "  * Set `weight=0.3` and `bias=0.9` there should be at least 100 datapoints total. \n",
    "  * Split the data into 80% training, 20% testing.\n",
    "  * Plot the training and testing data so it becomes visual.\n",
    "\n",
    "Your output of the below cell should look something like:\n",
    "```\n",
    "Number of X samples: 100\n",
    "Number of y samples: 100\n",
    "First 10 X & y samples:\n",
    "X: tensor([0.0000, 0.0100, 0.0200, 0.0300, 0.0400, 0.0500, 0.0600, 0.0700, 0.0800,\n",
    "        0.0900])\n",
    "y: tensor([0.9000, 0.9030, 0.9060, 0.9090, 0.9120, 0.9150, 0.9180, 0.9210, 0.9240,\n",
    "        0.9270])\n",
    "```\n",
    "\n",
    "Of course the numbers in `X` and `y` may be different but ideally they're created using the linear regression formula."
   ]
  },
  {
   "cell_type": "code",
   "execution_count": null,
   "metadata": {
    "id": "KbDG5MV7jhvE"
   },
   "outputs": [],
   "source": [
    "# Create the data parameters\n",
    "weight = 0.3\n",
    "bias = 0.9\n",
    "\n",
    "# Make X and y using linear regression feature\n",
    "X = torch.arange(0, 1, 0.01)\n",
    "y = weight* X + bias\n",
    "\n",
    "print(f\"Number of X samples: {len(X)}\")\n",
    "print(f\"Number of y samples: {len(y)}\")\n",
    "print(f\"First 10 X & y samples:\\nX: {X[:10]}\\ny: {y[:10]}\")"
   ]
  },
  {
   "cell_type": "code",
   "execution_count": null,
   "metadata": {
    "id": "GlwtT1djkmLw"
   },
   "outputs": [],
   "source": [
    "# Split the data into training and testing\n",
    "split = 0.8\n",
    "train_size = int(split* X.shape[0])\n",
    "X_train, X_test = X[0:train_size], X[train_size:]\n",
    "y_train, y_test = y[0:train_size], y[train_size:]\n",
    "\n",
    "print(f\"X_train: {X_train.shape}\")\n",
    "print(f\"X_test: {X_test.shape}\")\n",
    "print(f\"Y_train: {y_train.shape}\")\n",
    "print(f\"Y_test: {y_test.shape}\")\n",
    "\n",
    "X"
   ]
  },
  {
   "cell_type": "code",
   "execution_count": null,
   "metadata": {
    "id": "29iQZFNhlYJ-"
   },
   "outputs": [],
   "source": [
    "# Plot the training and testing data \n",
    "import matplotlib.pyplot as plt\n",
    "\n",
    "def plot(X= None, y=None, training_data = False):\n",
    "    plt.scatter(X_train,y_train, c = 'r', marker = 'o', linewidths = .1)\n",
    "    plt.scatter(X_test, y_test, c = 'b', marker = 'o', linewidths = .1)\n",
    "    if training_data:\n",
    "        plt.scatter(X, y, c = 'y', marker = 'o', linewidths = .1)\n",
    "\n",
    "plot()"
   ]
  },
  {
   "cell_type": "markdown",
   "metadata": {
    "id": "ImZoe3v8jif8"
   },
   "source": [
    "## 2. Build a PyTorch model by subclassing `nn.Module`. \n",
    "  * Inside should be a randomly initialized `nn.Parameter()` with `requires_grad=True`, one for `weights` and one for `bias`. \n",
    "  * Implement the `forward()` method to compute the linear regression function you used to create the dataset in 1. \n",
    "  * Once you've constructed the model, make an instance of it and check its `state_dict()`.\n",
    "  * **Note:** If you'd like to use `nn.Linear()` instead of `nn.Parameter()` you can."
   ]
  },
  {
   "cell_type": "code",
   "execution_count": null,
   "metadata": {
    "id": "qzd__Y5rjtB8"
   },
   "outputs": [],
   "source": [
    "# Create PyTorch linear regression model by subclassing nn.Module\n",
    "class  LinearModel(nn.Module):\n",
    "\n",
    "    def __init__(self):\n",
    "        super().__init__()\n",
    "        self.weights = nn.Parameter(torch.randn(1), requires_grad=True)\n",
    "        self.bias = nn.Parameter(torch.randn(1), requires_grad=True)\n",
    "\n",
    "    def forward(self, x):\n",
    "        return self.weights*x + self.bias\n",
    "\n",
    "class LinearModel_v2(nn.Module):\n",
    "\n",
    "    def __init__(self):\n",
    "        super().__init__()\n",
    "        self.linear = nn.Linear(in_features= 1, out_features=1)\n",
    "\n",
    "    def forward(self, x):\n",
    "        return self.linear(x)"
   ]
  },
  {
   "cell_type": "code",
   "execution_count": null,
   "metadata": {
    "id": "5LdcDnmOmyQ2"
   },
   "outputs": [],
   "source": [
    "# Instantiate the model and put it to the target device\n",
    "model = LinearModel().to(device)\n",
    "print(model)\n",
    "print(list(model.parameters()))\n",
    "\n",
    "model.to(device)\n",
    "# Model 2\n",
    "model_2 = LinearModel_v2().to(device)\n",
    "print(model_2)\n",
    "print(list(model_2.parameters()))\n",
    "\n",
    "model_2.to(device)"
   ]
  },
  {
   "cell_type": "markdown",
   "metadata": {
    "id": "G6nYOrJhjtfu"
   },
   "source": [
    "## 3. Create a loss function and optimizer using `nn.L1Loss()` and `torch.optim.SGD(params, lr)` respectively. \n",
    "  * Set the learning rate of the optimizer to be 0.01 and the parameters to optimize should be the model parameters from the model you created in 2.\n",
    "  * Write a training loop to perform the appropriate training steps for 300 epochs.\n",
    "  * The training loop should test the model on the test dataset every 20 epochs."
   ]
  },
  {
   "cell_type": "code",
   "execution_count": null,
   "metadata": {
    "id": "ltvoZ-FWjv1j"
   },
   "outputs": [],
   "source": [
    "# Create the loss function and optimizer\n",
    "loss_fn = nn.L1Loss()\n",
    "optimizer = torch.optim.SGD(model.parameters(), lr = 0.01)"
   ]
  },
  {
   "cell_type": "code",
   "execution_count": null,
   "metadata": {
    "id": "xpE83NvNnkdV"
   },
   "outputs": [],
   "source": [
    "# Training loop\n",
    "torch.manual_seed(42)\n",
    "\n",
    "# Train model for 300 epochs\n",
    "epochs = 300\n",
    "\n",
    "\n",
    "# Send data to target device\n",
    "X_train = X_train.to(device)\n",
    "X_test = X_test.to(device)\n",
    "\n",
    "y_train = y_train.to(device)\n",
    "y_test = y_test.to(device)\n",
    "\n",
    "for epoch in range(epochs):\n",
    "  ### Training\n",
    "  # Put model in train mode\n",
    "    model.train()\n",
    "  \n",
    "\n",
    "  # 1. Forward pass\n",
    "    y_train_pred = model(X_train)  \n",
    "\n",
    "    # 2. Calculate loss\n",
    "    loss = loss_fn(y_train_pred, y_train)\n",
    "\n",
    "    # 3. Zero gradients\n",
    "    optimizer.zero_grad()\n",
    "  \n",
    "\n",
    "    # 4. Backpropagation\n",
    "    loss.backward()\n",
    "\n",
    "    # 5. Step the optimizer\n",
    "    optimizer.step()\n",
    "  \n",
    "\n",
    "    ### Perform testing every 20 epochs\n",
    "    if epoch % 20 == 0:\n",
    "\n",
    "    # Put model in evaluation mode and setup inference context \n",
    "        model.eval()\n",
    "\n",
    "        with torch.inference_mode():\n",
    "      # 1. Forward pass\n",
    "            y_test_pred = model(X_test)\n",
    "      # 2. Calculate test loss\n",
    "            test_loss = loss_fn(y_test_pred, y_test)\n",
    "\n",
    "      # Print out what's happening\n",
    "        print(f\"Epoch: {epoch} | Train loss: {loss:.3f} | Test loss: {test_loss:.3f}\")"
   ]
  },
  {
   "cell_type": "markdown",
   "metadata": {
    "id": "x4j4TM18jwa7"
   },
   "source": [
    "## 4. Make predictions with the trained model on the test data.\n",
    "  * Visualize these predictions against the original training and testing data (**note:** you may need to make sure the predictions are *not* on the GPU if you want to use non-CUDA-enabled libraries such as matplotlib to plot)."
   ]
  },
  {
   "cell_type": "code",
   "execution_count": null,
   "metadata": {
    "id": "bbMPK5Qjjyx_"
   },
   "outputs": [],
   "source": [
    "# Make predictions with the model\n",
    "model.eval()\n",
    "\n",
    "with torch.inference_mode():\n",
    "    y_pred = model(X_test)\n",
    "\n",
    "print(y_pred.shape)\n",
    "print(y_pred[:10])\n",
    "\n",
    "# pring model parameters\n",
    "list(model.parameters())"
   ]
  },
  {
   "cell_type": "code",
   "execution_count": null,
   "metadata": {
    "id": "K3BdmQaDpFo8"
   },
   "outputs": [],
   "source": [
    "plot(X_test, y_pred, True)"
   ]
  },
  {
   "cell_type": "markdown",
   "metadata": {
    "id": "s2OnlMWKjzX8"
   },
   "source": [
    "## 5. Save your trained model's `state_dict()` to file.\n",
    "  * Create a new instance of your model class you made in 2. and load in the `state_dict()` you just saved to it.\n",
    "  * Perform predictions on your test data with the loaded model and confirm they match the original model predictions from 4."
   ]
  },
  {
   "cell_type": "code",
   "execution_count": null,
   "metadata": {
    "id": "hgxhgD14qr-i"
   },
   "outputs": [],
   "source": [
    "from pathlib import Path\n",
    "\n",
    "# 1. Create models directory \n",
    "model_path = Path(\"model_assignment\")\n",
    "model_path.mkdir(parents=True, exist_ok = True)\n",
    "\n",
    "# 2. Create model save path \n",
    "model_name = \"01_pytorch_model_linear\"\n",
    "model_save_path = model_path / model_name\n",
    "\n",
    "# 3. Save the model state dict\n",
    "print(f\"saving model to {model_save_path}\")\n",
    "torch.save(obj = model.state_dict(), f = model_save_path)"
   ]
  },
  {
   "cell_type": "code",
   "execution_count": null,
   "metadata": {
    "id": "P9vTgiLRrJ7T"
   },
   "outputs": [],
   "source": [
    "# Create new instance of model and load saved state dict (make sure to put it on the target device)\n",
    "loaded_model = LinearModel()\n",
    "loaded_model.load_state_dict(torch.load(f=model_save_path))\n",
    "loaded_model.to(device)"
   ]
  },
  {
   "cell_type": "code",
   "execution_count": null,
   "metadata": {
    "id": "8UGX3VebrVtI"
   },
   "outputs": [],
   "source": [
    "# Make predictions with loaded model and compare them to the previous\n",
    "test_pred_loaded_model = loaded_model(X_test)\n",
    "\n",
    "test_pred_loaded_model == y_pred"
   ]
  },
  {
   "cell_type": "code",
   "execution_count": null,
   "metadata": {},
   "outputs": [],
   "source": []
  }
 ],
 "metadata": {
  "accelerator": "GPU",
  "colab": {
   "authorship_tag": "ABX9TyNYzatJtFkfUqqdiR6rYwVL",
   "collapsed_sections": [],
   "include_colab_link": true,
   "name": "01_pytorch_workflow_exercises.ipynb",
   "provenance": []
  },
  "kernelspec": {
   "display_name": "Python 3 (ipykernel)",
   "language": "python",
   "name": "python3"
  },
  "language_info": {
   "codemirror_mode": {
    "name": "ipython",
    "version": 3
   },
   "file_extension": ".py",
   "mimetype": "text/x-python",
   "name": "python",
   "nbconvert_exporter": "python",
   "pygments_lexer": "ipython3",
   "version": "3.11.7"
  }
 },
 "nbformat": 4,
 "nbformat_minor": 4
}
